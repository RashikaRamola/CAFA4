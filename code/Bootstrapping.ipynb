{
 "cells": [
  {
   "cell_type": "markdown",
   "id": "9cf1ce21",
   "metadata": {},
   "source": [
    "1. Make an intersection of the top 10 methods"
   ]
  },
  {
   "cell_type": "code",
   "execution_count": 11,
   "id": "0b6947eb",
   "metadata": {},
   "outputs": [],
   "source": [
    "import os\n",
    "import pandas as pd"
   ]
  },
  {
   "cell_type": "code",
   "execution_count": 19,
   "id": "a43b85d0",
   "metadata": {},
   "outputs": [],
   "source": [
    "results_path = '/data/rashika/CAFA4/eval_final/eval_results/'\n",
    "names_file = '/data/rashika/CAFA4/file_map.tsv'\n",
    "coverage_threshold = 0.3\n",
    "metric, cols = ('f_w', ['rc_w', 'pr_w'])"
   ]
  },
  {
   "cell_type": "markdown",
   "id": "5a0ddb7e",
   "metadata": {},
   "source": [
    "### Collect the top n (n = 10) methods based on each metric"
   ]
  },
  {
   "cell_type": "code",
   "execution_count": 129,
   "id": "a59cc09b",
   "metadata": {},
   "outputs": [],
   "source": [
    "def get_top_methods(results_path, metric = 'f', cols = ['rc_w', 'pr'], names_file = '/data/rashika/CAFA4/file_map.tsv', coverage_threshold = 0.3):\n",
    "    dir_list = os.listdir(results_path)\n",
    "    top_n = {}\n",
    "    for ns in ['cellular_component', 'biological_process', 'molecular_function']:\n",
    "        top_n[ns] = {}\n",
    "    dir_list.remove('bpo_all_type3')\n",
    "    for file in dir_list:\n",
    "            df_file = results_path + file +\"/evaluation_all.tsv\"\n",
    "            df = pd.read_csv(df_file, sep=\"\\t\")\n",
    "\n",
    "            # Set method information (optional)\n",
    "            if names_file is None:\n",
    "                df['group'] = df['filename']\n",
    "                df['label'] = df['filename']\n",
    "                df['is_baseline'] = False\n",
    "            else:\n",
    "                methods = pd.read_csv(names_file, sep = \"\\t\", header=0)\n",
    "                df = pd.merge(df, methods, on='filename', how='left')\n",
    "                df['group'].fillna(df['filename'], inplace=True)\n",
    "                df['label'].fillna(df['filename'], inplace=True)\n",
    "                if 'is_baseline' not in df:\n",
    "                    df['is_baseline'] = False\n",
    "                else:\n",
    "                    df['is_baseline'].fillna(False, inplace=True)\n",
    "                # print(methods)\n",
    "            #df = df.drop(columns='filename').set_index(['group', 'label', 'ns', 'tau'])\n",
    "            df = df.set_index(['group_unique', 'label', 'ns', 'filename','tau'])\n",
    "\n",
    "            # Filter by coverage\n",
    "            df = df[df['cov'] >= coverage_threshold]\n",
    "\n",
    "\n",
    "            index_best = df.groupby(level=['group_unique', 'ns'])[metric].idxmax() if metric in ['f', 'f_w', 'f_micro', 'f_micro_w'] else df.groupby(['group_unique', 'ns'])[metric].idxmin()\n",
    "\n",
    "            # Filter the dataframe for the best methods\n",
    "            df_methods = df.reset_index('tau').loc[[ele[:-1] for ele in index_best], ['tau', 'cov'] + [metric]].sort_index()\n",
    "\n",
    "            # Filter the dataframe for the best method and threshold\n",
    "            df_best = df.loc[index_best, ['cov'] + cols + [metric]]\n",
    "\n",
    "            # Calculate the max coverage across all thresholds\n",
    "            df_best['max_cov'] = df_methods.groupby(level=['group_unique', 'label', 'ns'])['cov'].max()\n",
    "\n",
    "            n = 10\n",
    "            for ns, df_g in df_best.groupby(level='ns'):\n",
    "                top_n[ns][file] = df_g.sort_values(by=[metric, 'max_cov'], ascending=[False if metric.startswith('f') else True, False])[:n]\n",
    "                top_n[ns][file] = list(top_n[ns][file].reset_index('filename')['filename'])\n",
    "                #print(top_n[ns][fi`le].columns)\n",
    "    return top_n\n"
   ]
  },
  {
   "cell_type": "code",
   "execution_count": 134,
   "id": "9d0991fe",
   "metadata": {},
   "outputs": [],
   "source": [
    "metric_cols = {}\n",
    "metric_cols['f_w'] = ['rc_w', 'pr_w']\n",
    "metric_cols['f'] = ['rc', 'pr']\n",
    "metric_cols['f_micro_w'] = ['rc_micro_w', 'pr_micro_w']\n",
    "metric_cols['f_micro'] = ['rc_micro', 'pr_micro']\n",
    "metric_cols['s_w'] = ['ru_w', 'mi_w']\n",
    "\n",
    "top_n_metric = {}\n",
    "for metric in metric_cols.keys():\n",
    "    top_n_metric[metric] = get_top_methods(results_path, metric, metric_cols[metric], names_file = '/data/rashika/CAFA4/file_map.tsv', coverage_threshold = 0.3)"
   ]
  },
  {
   "cell_type": "markdown",
   "id": "ab6474ec",
   "metadata": {},
   "source": [
    "## Collect the union of the methods that show up in top 10"
   ]
  },
  {
   "cell_type": "code",
   "execution_count": 142,
   "id": "d91e5069",
   "metadata": {},
   "outputs": [],
   "source": [
    "top_methods = set()\n",
    "for metric in metric_cols.keys():\n",
    "    for ns in ['cellular_component', 'biological_process', 'molecular_function']:\n",
    "        for key in top_n_metric[metric][ns].keys():\n",
    "            top_methods = top_methods.union(set(top_n_metric[metric][ns][key]))"
   ]
  },
  {
   "cell_type": "code",
   "execution_count": 191,
   "id": "8d44b191",
   "metadata": {},
   "outputs": [
    {
     "data": {
      "text/plain": [
       "dict_keys(['f_w', 'f', 'f_micro_w', 'f_micro', 's_w'])"
      ]
     },
     "execution_count": 191,
     "metadata": {},
     "output_type": "execute_result"
    }
   ],
   "source": [
    "top_n_metric.keys()"
   ]
  },
  {
   "cell_type": "markdown",
   "id": "2f25ad4d",
   "metadata": {},
   "source": [
    "Get the 'benchmark_wise' union of methods, add blast and naive to methods in each list"
   ]
  },
  {
   "cell_type": "code",
   "execution_count": 220,
   "id": "1f6e7c85",
   "metadata": {},
   "outputs": [],
   "source": [
    "Benchmarks = ['cco_all_type1', 'cco_all_type2', 'cco_all_type3', 'cco_all_type12', 'bpo_all_type1', 'bpo_all_type2', 'bpo_all_type3', 'bpo_all_type12', 'mfo_all_type1', 'mfo_all_type2', 'mfo_all_type3', 'mfo_all_type12']\n",
    "top_by_bm = {}\n",
    "for bm in Benchmarks:\n",
    "    top_by_bm[bm] = []\n",
    "    \n",
    "for metric in top_n_metric.keys():\n",
    "    for aspect in top_n_metric[metric].keys():\n",
    "        for bm in top_n_metric[metric][aspect].keys():\n",
    "            if top_n_metric[metric][aspect][bm]:\n",
    "                top_by_bm[bm] = list(set(top_by_bm[bm]).union(set(top_n_metric[metric][aspect][bm])).union(set(['blast', 'naive'])))"
   ]
  },
  {
   "cell_type": "code",
   "execution_count": 225,
   "id": "fee0d240",
   "metadata": {},
   "outputs": [
    {
     "data": {
      "text/plain": [
       "239"
      ]
     },
     "execution_count": 225,
     "metadata": {},
     "output_type": "execute_result"
    }
   ],
   "source": [
    "x = 0\n",
    "unique_winner = set()\n",
    "for bm in Benchmarks:\n",
    "    unique_winners = unique_winners.union(set(top_by_bm[bm]))\n",
    "    x +=len(top_by_bm[bm])\n",
    "x"
   ]
  },
  {
   "cell_type": "code",
   "execution_count": 226,
   "id": "152e278f",
   "metadata": {},
   "outputs": [
    {
     "data": {
      "text/plain": [
       "52"
      ]
     },
     "execution_count": 226,
     "metadata": {},
     "output_type": "execute_result"
    }
   ],
   "source": [
    "len(unique_winners)"
   ]
  },
  {
   "cell_type": "markdown",
   "id": "ea47e4a4",
   "metadata": {},
   "source": [
    "Methods to be bootstrapped = union of top methods and blast, naive"
   ]
  },
  {
   "cell_type": "markdown",
   "id": "d414cb09",
   "metadata": {},
   "source": [
    "Copy the files4bs to a different directory, so that bootstrapping can be done on the entire directory"
   ]
  },
  {
   "cell_type": "code",
   "execution_count": 234,
   "id": "f0d2abed",
   "metadata": {},
   "outputs": [
    {
     "name": "stdout",
     "output_type": "stream",
     "text": [
      "cp /data/yisupeng/sharing/cafa4/all_models/M120 /data/rashika/CAFA4/winner_methods/cco_all_type1\n",
      "cp /data/yisupeng/sharing/cafa4/all_models/M038 /data/rashika/CAFA4/winner_methods/cco_all_type1\n",
      "cp /data/yisupeng/sharing/cafa4/all_models/M088 /data/rashika/CAFA4/winner_methods/cco_all_type1\n",
      "cp /data/yisupeng/sharing/cafa4/all_models/M066 /data/rashika/CAFA4/winner_methods/cco_all_type1\n",
      "cp /data/yisupeng/sharing/cafa4/all_models/M112 /data/rashika/CAFA4/winner_methods/cco_all_type1\n",
      "cp /data/yisupeng/sharing/cafa4/all_models/M118 /data/rashika/CAFA4/winner_methods/cco_all_type1\n",
      "cp /data/yisupeng/sharing/cafa4/all_models/M115 /data/rashika/CAFA4/winner_methods/cco_all_type1\n",
      "cp /data/yisupeng/sharing/cafa4/all_models/naive /data/rashika/CAFA4/winner_methods/cco_all_type1\n",
      "cp /data/yisupeng/sharing/cafa4/all_models/M086 /data/rashika/CAFA4/winner_methods/cco_all_type1\n",
      "cp /data/yisupeng/sharing/cafa4/all_models/M050 /data/rashika/CAFA4/winner_methods/cco_all_type1\n",
      "cp /data/yisupeng/sharing/cafa4/all_models/M005 /data/rashika/CAFA4/winner_methods/cco_all_type1\n",
      "cp /data/yisupeng/sharing/cafa4/all_models/M071 /data/rashika/CAFA4/winner_methods/cco_all_type1\n",
      "cp /data/yisupeng/sharing/cafa4/all_models/M049 /data/rashika/CAFA4/winner_methods/cco_all_type1\n",
      "cp /data/yisupeng/sharing/cafa4/all_models/M119 /data/rashika/CAFA4/winner_methods/cco_all_type1\n",
      "cp /data/yisupeng/sharing/cafa4/all_models/M016 /data/rashika/CAFA4/winner_methods/cco_all_type1\n",
      "cp /data/yisupeng/sharing/cafa4/all_models/M117 /data/rashika/CAFA4/winner_methods/cco_all_type1\n",
      "cp /data/yisupeng/sharing/cafa4/all_models/M023 /data/rashika/CAFA4/winner_methods/cco_all_type1\n",
      "cp /data/yisupeng/sharing/cafa4/all_models/M068 /data/rashika/CAFA4/winner_methods/cco_all_type1\n",
      "cp /data/yisupeng/sharing/cafa4/all_models/M061 /data/rashika/CAFA4/winner_methods/cco_all_type1\n",
      "cp /data/yisupeng/sharing/cafa4/all_models/blast /data/rashika/CAFA4/winner_methods/cco_all_type1\n",
      "cp /data/yisupeng/sharing/cafa4/all_models/M024 /data/rashika/CAFA4/winner_methods/cco_all_type1\n",
      "cp /data/yisupeng/sharing/cafa4/all_models/M041 /data/rashika/CAFA4/winner_methods/cco_all_type1\n",
      "cp /data/yisupeng/sharing/cafa4/all_models/M028 /data/rashika/CAFA4/winner_methods/cco_all_type1\n",
      "cp /data/yisupeng/sharing/cafa4/all_models/M006 /data/rashika/CAFA4/winner_methods/cco_all_type1\n",
      "cp /data/yisupeng/sharing/cafa4/all_models/M074 /data/rashika/CAFA4/winner_methods/cco_all_type1\n",
      "cp /data/yisupeng/sharing/cafa4/all_models/M022 /data/rashika/CAFA4/winner_methods/cco_all_type1\n",
      "cp /data/yisupeng/sharing/cafa4/all_models/M120 /data/rashika/CAFA4/winner_methods/cco_all_type2\n",
      "cp /data/yisupeng/sharing/cafa4/all_models/M038 /data/rashika/CAFA4/winner_methods/cco_all_type2\n",
      "cp /data/yisupeng/sharing/cafa4/all_models/M088 /data/rashika/CAFA4/winner_methods/cco_all_type2\n",
      "cp /data/yisupeng/sharing/cafa4/all_models/M112 /data/rashika/CAFA4/winner_methods/cco_all_type2\n",
      "cp /data/yisupeng/sharing/cafa4/all_models/M118 /data/rashika/CAFA4/winner_methods/cco_all_type2\n",
      "cp /data/yisupeng/sharing/cafa4/all_models/M115 /data/rashika/CAFA4/winner_methods/cco_all_type2\n",
      "cp /data/yisupeng/sharing/cafa4/all_models/naive /data/rashika/CAFA4/winner_methods/cco_all_type2\n",
      "cp /data/yisupeng/sharing/cafa4/all_models/M050 /data/rashika/CAFA4/winner_methods/cco_all_type2\n",
      "cp /data/yisupeng/sharing/cafa4/all_models/M005 /data/rashika/CAFA4/winner_methods/cco_all_type2\n",
      "cp /data/yisupeng/sharing/cafa4/all_models/M049 /data/rashika/CAFA4/winner_methods/cco_all_type2\n",
      "cp /data/yisupeng/sharing/cafa4/all_models/M119 /data/rashika/CAFA4/winner_methods/cco_all_type2\n",
      "cp /data/yisupeng/sharing/cafa4/all_models/M117 /data/rashika/CAFA4/winner_methods/cco_all_type2\n",
      "cp /data/yisupeng/sharing/cafa4/all_models/M068 /data/rashika/CAFA4/winner_methods/cco_all_type2\n",
      "cp /data/yisupeng/sharing/cafa4/all_models/M061 /data/rashika/CAFA4/winner_methods/cco_all_type2\n",
      "cp /data/yisupeng/sharing/cafa4/all_models/blast /data/rashika/CAFA4/winner_methods/cco_all_type2\n",
      "cp /data/yisupeng/sharing/cafa4/all_models/M024 /data/rashika/CAFA4/winner_methods/cco_all_type2\n",
      "cp /data/yisupeng/sharing/cafa4/all_models/M089 /data/rashika/CAFA4/winner_methods/cco_all_type2\n",
      "cp /data/yisupeng/sharing/cafa4/all_models/M040 /data/rashika/CAFA4/winner_methods/cco_all_type2\n",
      "cp /data/yisupeng/sharing/cafa4/all_models/M006 /data/rashika/CAFA4/winner_methods/cco_all_type2\n",
      "cp /data/yisupeng/sharing/cafa4/all_models/M022 /data/rashika/CAFA4/winner_methods/cco_all_type2\n",
      "cp /data/yisupeng/sharing/cafa4/all_models/M088 /data/rashika/CAFA4/winner_methods/cco_all_type3\n",
      "cp /data/yisupeng/sharing/cafa4/all_models/M066 /data/rashika/CAFA4/winner_methods/cco_all_type3\n",
      "cp /data/yisupeng/sharing/cafa4/all_models/M087 /data/rashika/CAFA4/winner_methods/cco_all_type3\n",
      "cp /data/yisupeng/sharing/cafa4/all_models/naive /data/rashika/CAFA4/winner_methods/cco_all_type3\n",
      "cp /data/yisupeng/sharing/cafa4/all_models/M086 /data/rashika/CAFA4/winner_methods/cco_all_type3\n",
      "cp /data/yisupeng/sharing/cafa4/all_models/M014 /data/rashika/CAFA4/winner_methods/cco_all_type3\n",
      "cp /data/yisupeng/sharing/cafa4/all_models/M050 /data/rashika/CAFA4/winner_methods/cco_all_type3\n",
      "cp /data/yisupeng/sharing/cafa4/all_models/M004 /data/rashika/CAFA4/winner_methods/cco_all_type3\n",
      "cp /data/yisupeng/sharing/cafa4/all_models/M012 /data/rashika/CAFA4/winner_methods/cco_all_type3\n",
      "cp /data/yisupeng/sharing/cafa4/all_models/M005 /data/rashika/CAFA4/winner_methods/cco_all_type3\n",
      "cp /data/yisupeng/sharing/cafa4/all_models/M090 /data/rashika/CAFA4/winner_methods/cco_all_type3\n",
      "cp /data/yisupeng/sharing/cafa4/all_models/M085 /data/rashika/CAFA4/winner_methods/cco_all_type3\n",
      "cp /data/yisupeng/sharing/cafa4/all_models/M071 /data/rashika/CAFA4/winner_methods/cco_all_type3\n",
      "cp /data/yisupeng/sharing/cafa4/all_models/M003 /data/rashika/CAFA4/winner_methods/cco_all_type3\n",
      "cp /data/yisupeng/sharing/cafa4/all_models/M119 /data/rashika/CAFA4/winner_methods/cco_all_type3\n",
      "cp /data/yisupeng/sharing/cafa4/all_models/M072 /data/rashika/CAFA4/winner_methods/cco_all_type3\n",
      "cp /data/yisupeng/sharing/cafa4/all_models/M076 /data/rashika/CAFA4/winner_methods/cco_all_type3\n",
      "cp /data/yisupeng/sharing/cafa4/all_models/blast /data/rashika/CAFA4/winner_methods/cco_all_type3\n",
      "cp /data/yisupeng/sharing/cafa4/all_models/M035 /data/rashika/CAFA4/winner_methods/cco_all_type3\n",
      "cp /data/yisupeng/sharing/cafa4/all_models/M089 /data/rashika/CAFA4/winner_methods/cco_all_type3\n",
      "cp /data/yisupeng/sharing/cafa4/all_models/M112 /data/rashika/CAFA4/winner_methods/cco_all_type3\n",
      "cp /data/yisupeng/sharing/cafa4/all_models/M006 /data/rashika/CAFA4/winner_methods/cco_all_type3\n",
      "cp /data/yisupeng/sharing/cafa4/all_models/M120 /data/rashika/CAFA4/winner_methods/cco_all_type12\n",
      "cp /data/yisupeng/sharing/cafa4/all_models/M038 /data/rashika/CAFA4/winner_methods/cco_all_type12\n",
      "cp /data/yisupeng/sharing/cafa4/all_models/M088 /data/rashika/CAFA4/winner_methods/cco_all_type12\n",
      "cp /data/yisupeng/sharing/cafa4/all_models/M041 /data/rashika/CAFA4/winner_methods/cco_all_type12\n",
      "cp /data/yisupeng/sharing/cafa4/all_models/M112 /data/rashika/CAFA4/winner_methods/cco_all_type12\n",
      "cp /data/yisupeng/sharing/cafa4/all_models/M118 /data/rashika/CAFA4/winner_methods/cco_all_type12\n",
      "cp /data/yisupeng/sharing/cafa4/all_models/M115 /data/rashika/CAFA4/winner_methods/cco_all_type12\n",
      "cp /data/yisupeng/sharing/cafa4/all_models/naive /data/rashika/CAFA4/winner_methods/cco_all_type12\n",
      "cp /data/yisupeng/sharing/cafa4/all_models/M050 /data/rashika/CAFA4/winner_methods/cco_all_type12\n",
      "cp /data/yisupeng/sharing/cafa4/all_models/M005 /data/rashika/CAFA4/winner_methods/cco_all_type12\n",
      "cp /data/yisupeng/sharing/cafa4/all_models/M062 /data/rashika/CAFA4/winner_methods/cco_all_type12\n",
      "cp /data/yisupeng/sharing/cafa4/all_models/M049 /data/rashika/CAFA4/winner_methods/cco_all_type12\n",
      "cp /data/yisupeng/sharing/cafa4/all_models/M119 /data/rashika/CAFA4/winner_methods/cco_all_type12\n",
      "cp /data/yisupeng/sharing/cafa4/all_models/M016 /data/rashika/CAFA4/winner_methods/cco_all_type12\n",
      "cp /data/yisupeng/sharing/cafa4/all_models/M117 /data/rashika/CAFA4/winner_methods/cco_all_type12\n",
      "cp /data/yisupeng/sharing/cafa4/all_models/M027 /data/rashika/CAFA4/winner_methods/cco_all_type12\n",
      "cp /data/yisupeng/sharing/cafa4/all_models/M068 /data/rashika/CAFA4/winner_methods/cco_all_type12\n"
     ]
    },
    {
     "name": "stdout",
     "output_type": "stream",
     "text": [
      "cp /data/yisupeng/sharing/cafa4/all_models/blast /data/rashika/CAFA4/winner_methods/cco_all_type12\n",
      "cp /data/yisupeng/sharing/cafa4/all_models/M024 /data/rashika/CAFA4/winner_methods/cco_all_type12\n",
      "cp /data/yisupeng/sharing/cafa4/all_models/M040 /data/rashika/CAFA4/winner_methods/cco_all_type12\n",
      "cp /data/yisupeng/sharing/cafa4/all_models/M006 /data/rashika/CAFA4/winner_methods/cco_all_type12\n",
      "cp /data/yisupeng/sharing/cafa4/all_models/M022 /data/rashika/CAFA4/winner_methods/cco_all_type12\n",
      "cp /data/yisupeng/sharing/cafa4/all_models/M088 /data/rashika/CAFA4/winner_methods/bpo_all_type1\n",
      "cp /data/yisupeng/sharing/cafa4/all_models/M038 /data/rashika/CAFA4/winner_methods/bpo_all_type1\n",
      "cp /data/yisupeng/sharing/cafa4/all_models/M066 /data/rashika/CAFA4/winner_methods/bpo_all_type1\n",
      "cp /data/yisupeng/sharing/cafa4/all_models/M118 /data/rashika/CAFA4/winner_methods/bpo_all_type1\n",
      "cp /data/yisupeng/sharing/cafa4/all_models/M082 /data/rashika/CAFA4/winner_methods/bpo_all_type1\n",
      "cp /data/yisupeng/sharing/cafa4/all_models/M115 /data/rashika/CAFA4/winner_methods/bpo_all_type1\n",
      "cp /data/yisupeng/sharing/cafa4/all_models/M087 /data/rashika/CAFA4/winner_methods/bpo_all_type1\n",
      "cp /data/yisupeng/sharing/cafa4/all_models/M015 /data/rashika/CAFA4/winner_methods/bpo_all_type1\n",
      "cp /data/yisupeng/sharing/cafa4/all_models/naive /data/rashika/CAFA4/winner_methods/bpo_all_type1\n",
      "cp /data/yisupeng/sharing/cafa4/all_models/M004 /data/rashika/CAFA4/winner_methods/bpo_all_type1\n",
      "cp /data/yisupeng/sharing/cafa4/all_models/M050 /data/rashika/CAFA4/winner_methods/bpo_all_type1\n",
      "cp /data/yisupeng/sharing/cafa4/all_models/M005 /data/rashika/CAFA4/winner_methods/bpo_all_type1\n",
      "cp /data/yisupeng/sharing/cafa4/all_models/M032 /data/rashika/CAFA4/winner_methods/bpo_all_type1\n",
      "cp /data/yisupeng/sharing/cafa4/all_models/M062 /data/rashika/CAFA4/winner_methods/bpo_all_type1\n",
      "cp /data/yisupeng/sharing/cafa4/all_models/M049 /data/rashika/CAFA4/winner_methods/bpo_all_type1\n",
      "cp /data/yisupeng/sharing/cafa4/all_models/M043 /data/rashika/CAFA4/winner_methods/bpo_all_type1\n",
      "cp /data/yisupeng/sharing/cafa4/all_models/M016 /data/rashika/CAFA4/winner_methods/bpo_all_type1\n",
      "cp /data/yisupeng/sharing/cafa4/all_models/M019 /data/rashika/CAFA4/winner_methods/bpo_all_type1\n",
      "cp /data/yisupeng/sharing/cafa4/all_models/M072 /data/rashika/CAFA4/winner_methods/bpo_all_type1\n",
      "cp /data/yisupeng/sharing/cafa4/all_models/M110 /data/rashika/CAFA4/winner_methods/bpo_all_type1\n",
      "cp /data/yisupeng/sharing/cafa4/all_models/M068 /data/rashika/CAFA4/winner_methods/bpo_all_type1\n",
      "cp /data/yisupeng/sharing/cafa4/all_models/M092 /data/rashika/CAFA4/winner_methods/bpo_all_type1\n",
      "cp /data/yisupeng/sharing/cafa4/all_models/M024 /data/rashika/CAFA4/winner_methods/bpo_all_type1\n",
      "cp /data/yisupeng/sharing/cafa4/all_models/blast /data/rashika/CAFA4/winner_methods/bpo_all_type1\n",
      "cp /data/yisupeng/sharing/cafa4/all_models/M006 /data/rashika/CAFA4/winner_methods/bpo_all_type1\n",
      "cp /data/yisupeng/sharing/cafa4/all_models/M038 /data/rashika/CAFA4/winner_methods/bpo_all_type2\n",
      "cp /data/yisupeng/sharing/cafa4/all_models/M112 /data/rashika/CAFA4/winner_methods/bpo_all_type2\n",
      "cp /data/yisupeng/sharing/cafa4/all_models/M118 /data/rashika/CAFA4/winner_methods/bpo_all_type2\n",
      "cp /data/yisupeng/sharing/cafa4/all_models/M115 /data/rashika/CAFA4/winner_methods/bpo_all_type2\n",
      "cp /data/yisupeng/sharing/cafa4/all_models/M015 /data/rashika/CAFA4/winner_methods/bpo_all_type2\n",
      "cp /data/yisupeng/sharing/cafa4/all_models/naive /data/rashika/CAFA4/winner_methods/bpo_all_type2\n",
      "cp /data/yisupeng/sharing/cafa4/all_models/M004 /data/rashika/CAFA4/winner_methods/bpo_all_type2\n",
      "cp /data/yisupeng/sharing/cafa4/all_models/M005 /data/rashika/CAFA4/winner_methods/bpo_all_type2\n",
      "cp /data/yisupeng/sharing/cafa4/all_models/M045 /data/rashika/CAFA4/winner_methods/bpo_all_type2\n",
      "cp /data/yisupeng/sharing/cafa4/all_models/M049 /data/rashika/CAFA4/winner_methods/bpo_all_type2\n",
      "cp /data/yisupeng/sharing/cafa4/all_models/M016 /data/rashika/CAFA4/winner_methods/bpo_all_type2\n",
      "cp /data/yisupeng/sharing/cafa4/all_models/M117 /data/rashika/CAFA4/winner_methods/bpo_all_type2\n",
      "cp /data/yisupeng/sharing/cafa4/all_models/M072 /data/rashika/CAFA4/winner_methods/bpo_all_type2\n",
      "cp /data/yisupeng/sharing/cafa4/all_models/M027 /data/rashika/CAFA4/winner_methods/bpo_all_type2\n",
      "cp /data/yisupeng/sharing/cafa4/all_models/M021 /data/rashika/CAFA4/winner_methods/bpo_all_type2\n",
      "cp /data/yisupeng/sharing/cafa4/all_models/M061 /data/rashika/CAFA4/winner_methods/bpo_all_type2\n",
      "cp /data/yisupeng/sharing/cafa4/all_models/blast /data/rashika/CAFA4/winner_methods/bpo_all_type2\n",
      "cp /data/yisupeng/sharing/cafa4/all_models/M024 /data/rashika/CAFA4/winner_methods/bpo_all_type2\n",
      "cp /data/yisupeng/sharing/cafa4/all_models/M092 /data/rashika/CAFA4/winner_methods/bpo_all_type2\n",
      "cp /data/yisupeng/sharing/cafa4/all_models/M041 /data/rashika/CAFA4/winner_methods/bpo_all_type2\n",
      "cp /data/yisupeng/sharing/cafa4/all_models/M028 /data/rashika/CAFA4/winner_methods/bpo_all_type2\n",
      "cp /data/yisupeng/sharing/cafa4/all_models/M022 /data/rashika/CAFA4/winner_methods/bpo_all_type2\n",
      "cp /data/yisupeng/sharing/cafa4/all_models/M038 /data/rashika/CAFA4/winner_methods/bpo_all_type12\n",
      "cp /data/yisupeng/sharing/cafa4/all_models/M118 /data/rashika/CAFA4/winner_methods/bpo_all_type12\n",
      "cp /data/yisupeng/sharing/cafa4/all_models/M082 /data/rashika/CAFA4/winner_methods/bpo_all_type12\n",
      "cp /data/yisupeng/sharing/cafa4/all_models/M115 /data/rashika/CAFA4/winner_methods/bpo_all_type12\n",
      "cp /data/yisupeng/sharing/cafa4/all_models/M015 /data/rashika/CAFA4/winner_methods/bpo_all_type12\n",
      "cp /data/yisupeng/sharing/cafa4/all_models/naive /data/rashika/CAFA4/winner_methods/bpo_all_type12\n",
      "cp /data/yisupeng/sharing/cafa4/all_models/M004 /data/rashika/CAFA4/winner_methods/bpo_all_type12\n",
      "cp /data/yisupeng/sharing/cafa4/all_models/M005 /data/rashika/CAFA4/winner_methods/bpo_all_type12\n",
      "cp /data/yisupeng/sharing/cafa4/all_models/M045 /data/rashika/CAFA4/winner_methods/bpo_all_type12\n",
      "cp /data/yisupeng/sharing/cafa4/all_models/M032 /data/rashika/CAFA4/winner_methods/bpo_all_type12\n",
      "cp /data/yisupeng/sharing/cafa4/all_models/M049 /data/rashika/CAFA4/winner_methods/bpo_all_type12\n",
      "cp /data/yisupeng/sharing/cafa4/all_models/M019 /data/rashika/CAFA4/winner_methods/bpo_all_type12\n",
      "cp /data/yisupeng/sharing/cafa4/all_models/M016 /data/rashika/CAFA4/winner_methods/bpo_all_type12\n",
      "cp /data/yisupeng/sharing/cafa4/all_models/M117 /data/rashika/CAFA4/winner_methods/bpo_all_type12\n",
      "cp /data/yisupeng/sharing/cafa4/all_models/M072 /data/rashika/CAFA4/winner_methods/bpo_all_type12\n",
      "cp /data/yisupeng/sharing/cafa4/all_models/M110 /data/rashika/CAFA4/winner_methods/bpo_all_type12\n",
      "cp /data/yisupeng/sharing/cafa4/all_models/M068 /data/rashika/CAFA4/winner_methods/bpo_all_type12\n",
      "cp /data/yisupeng/sharing/cafa4/all_models/M061 /data/rashika/CAFA4/winner_methods/bpo_all_type12\n",
      "cp /data/yisupeng/sharing/cafa4/all_models/blast /data/rashika/CAFA4/winner_methods/bpo_all_type12\n",
      "cp /data/yisupeng/sharing/cafa4/all_models/M089 /data/rashika/CAFA4/winner_methods/bpo_all_type12\n",
      "cp /data/yisupeng/sharing/cafa4/all_models/M041 /data/rashika/CAFA4/winner_methods/bpo_all_type12\n",
      "cp /data/yisupeng/sharing/cafa4/all_models/M028 /data/rashika/CAFA4/winner_methods/bpo_all_type12\n",
      "cp /data/yisupeng/sharing/cafa4/all_models/M006 /data/rashika/CAFA4/winner_methods/bpo_all_type12\n",
      "cp /data/yisupeng/sharing/cafa4/all_models/M022 /data/rashika/CAFA4/winner_methods/bpo_all_type12\n",
      "cp /data/yisupeng/sharing/cafa4/all_models/M066 /data/rashika/CAFA4/winner_methods/mfo_all_type1\n",
      "cp /data/yisupeng/sharing/cafa4/all_models/M091 /data/rashika/CAFA4/winner_methods/mfo_all_type1\n",
      "cp /data/yisupeng/sharing/cafa4/all_models/M118 /data/rashika/CAFA4/winner_methods/mfo_all_type1\n",
      "cp /data/yisupeng/sharing/cafa4/all_models/M115 /data/rashika/CAFA4/winner_methods/mfo_all_type1\n",
      "cp /data/yisupeng/sharing/cafa4/all_models/M087 /data/rashika/CAFA4/winner_methods/mfo_all_type1\n",
      "cp /data/yisupeng/sharing/cafa4/all_models/M081 /data/rashika/CAFA4/winner_methods/mfo_all_type1\n",
      "cp /data/yisupeng/sharing/cafa4/all_models/naive /data/rashika/CAFA4/winner_methods/mfo_all_type1\n",
      "cp /data/yisupeng/sharing/cafa4/all_models/M032 /data/rashika/CAFA4/winner_methods/mfo_all_type1\n",
      "cp /data/yisupeng/sharing/cafa4/all_models/M003 /data/rashika/CAFA4/winner_methods/mfo_all_type1\n"
     ]
    },
    {
     "name": "stdout",
     "output_type": "stream",
     "text": [
      "cp /data/yisupeng/sharing/cafa4/all_models/M043 /data/rashika/CAFA4/winner_methods/mfo_all_type1\n",
      "cp /data/yisupeng/sharing/cafa4/all_models/M119 /data/rashika/CAFA4/winner_methods/mfo_all_type1\n",
      "cp /data/yisupeng/sharing/cafa4/all_models/M074 /data/rashika/CAFA4/winner_methods/mfo_all_type1\n",
      "cp /data/yisupeng/sharing/cafa4/all_models/M110 /data/rashika/CAFA4/winner_methods/mfo_all_type1\n",
      "cp /data/yisupeng/sharing/cafa4/all_models/M068 /data/rashika/CAFA4/winner_methods/mfo_all_type1\n",
      "cp /data/yisupeng/sharing/cafa4/all_models/blast /data/rashika/CAFA4/winner_methods/mfo_all_type1\n",
      "cp /data/yisupeng/sharing/cafa4/all_models/M112 /data/rashika/CAFA4/winner_methods/mfo_all_type1\n",
      "cp /data/yisupeng/sharing/cafa4/all_models/M006 /data/rashika/CAFA4/winner_methods/mfo_all_type1\n",
      "cp /data/yisupeng/sharing/cafa4/all_models/M131 /data/rashika/CAFA4/winner_methods/mfo_all_type1\n",
      "cp /data/yisupeng/sharing/cafa4/all_models/M088 /data/rashika/CAFA4/winner_methods/mfo_all_type2\n",
      "cp /data/yisupeng/sharing/cafa4/all_models/M066 /data/rashika/CAFA4/winner_methods/mfo_all_type2\n",
      "cp /data/yisupeng/sharing/cafa4/all_models/M091 /data/rashika/CAFA4/winner_methods/mfo_all_type2\n",
      "cp /data/yisupeng/sharing/cafa4/all_models/M118 /data/rashika/CAFA4/winner_methods/mfo_all_type2\n",
      "cp /data/yisupeng/sharing/cafa4/all_models/M115 /data/rashika/CAFA4/winner_methods/mfo_all_type2\n",
      "cp /data/yisupeng/sharing/cafa4/all_models/M081 /data/rashika/CAFA4/winner_methods/mfo_all_type2\n",
      "cp /data/yisupeng/sharing/cafa4/all_models/naive /data/rashika/CAFA4/winner_methods/mfo_all_type2\n",
      "cp /data/yisupeng/sharing/cafa4/all_models/M005 /data/rashika/CAFA4/winner_methods/mfo_all_type2\n",
      "cp /data/yisupeng/sharing/cafa4/all_models/M045 /data/rashika/CAFA4/winner_methods/mfo_all_type2\n",
      "cp /data/yisupeng/sharing/cafa4/all_models/M032 /data/rashika/CAFA4/winner_methods/mfo_all_type2\n",
      "cp /data/yisupeng/sharing/cafa4/all_models/M090 /data/rashika/CAFA4/winner_methods/mfo_all_type2\n",
      "cp /data/yisupeng/sharing/cafa4/all_models/M119 /data/rashika/CAFA4/winner_methods/mfo_all_type2\n",
      "cp /data/yisupeng/sharing/cafa4/all_models/M016 /data/rashika/CAFA4/winner_methods/mfo_all_type2\n",
      "cp /data/yisupeng/sharing/cafa4/all_models/M110 /data/rashika/CAFA4/winner_methods/mfo_all_type2\n",
      "cp /data/yisupeng/sharing/cafa4/all_models/M068 /data/rashika/CAFA4/winner_methods/mfo_all_type2\n",
      "cp /data/yisupeng/sharing/cafa4/all_models/blast /data/rashika/CAFA4/winner_methods/mfo_all_type2\n",
      "cp /data/yisupeng/sharing/cafa4/all_models/M089 /data/rashika/CAFA4/winner_methods/mfo_all_type2\n",
      "cp /data/yisupeng/sharing/cafa4/all_models/M112 /data/rashika/CAFA4/winner_methods/mfo_all_type2\n",
      "cp /data/yisupeng/sharing/cafa4/all_models/M006 /data/rashika/CAFA4/winner_methods/mfo_all_type2\n",
      "cp /data/yisupeng/sharing/cafa4/all_models/M088 /data/rashika/CAFA4/winner_methods/mfo_all_type3\n",
      "cp /data/yisupeng/sharing/cafa4/all_models/M066 /data/rashika/CAFA4/winner_methods/mfo_all_type3\n",
      "cp /data/yisupeng/sharing/cafa4/all_models/M091 /data/rashika/CAFA4/winner_methods/mfo_all_type3\n",
      "cp /data/yisupeng/sharing/cafa4/all_models/M115 /data/rashika/CAFA4/winner_methods/mfo_all_type3\n",
      "cp /data/yisupeng/sharing/cafa4/all_models/M081 /data/rashika/CAFA4/winner_methods/mfo_all_type3\n",
      "cp /data/yisupeng/sharing/cafa4/all_models/naive /data/rashika/CAFA4/winner_methods/mfo_all_type3\n",
      "cp /data/yisupeng/sharing/cafa4/all_models/M014 /data/rashika/CAFA4/winner_methods/mfo_all_type3\n",
      "cp /data/yisupeng/sharing/cafa4/all_models/M004 /data/rashika/CAFA4/winner_methods/mfo_all_type3\n",
      "cp /data/yisupeng/sharing/cafa4/all_models/M005 /data/rashika/CAFA4/winner_methods/mfo_all_type3\n",
      "cp /data/yisupeng/sharing/cafa4/all_models/M045 /data/rashika/CAFA4/winner_methods/mfo_all_type3\n",
      "cp /data/yisupeng/sharing/cafa4/all_models/M071 /data/rashika/CAFA4/winner_methods/mfo_all_type3\n",
      "cp /data/yisupeng/sharing/cafa4/all_models/M049 /data/rashika/CAFA4/winner_methods/mfo_all_type3\n",
      "cp /data/yisupeng/sharing/cafa4/all_models/M003 /data/rashika/CAFA4/winner_methods/mfo_all_type3\n",
      "cp /data/yisupeng/sharing/cafa4/all_models/M119 /data/rashika/CAFA4/winner_methods/mfo_all_type3\n",
      "cp /data/yisupeng/sharing/cafa4/all_models/M072 /data/rashika/CAFA4/winner_methods/mfo_all_type3\n",
      "cp /data/yisupeng/sharing/cafa4/all_models/M068 /data/rashika/CAFA4/winner_methods/mfo_all_type3\n",
      "cp /data/yisupeng/sharing/cafa4/all_models/blast /data/rashika/CAFA4/winner_methods/mfo_all_type3\n",
      "cp /data/yisupeng/sharing/cafa4/all_models/M089 /data/rashika/CAFA4/winner_methods/mfo_all_type3\n",
      "cp /data/yisupeng/sharing/cafa4/all_models/M112 /data/rashika/CAFA4/winner_methods/mfo_all_type3\n",
      "cp /data/yisupeng/sharing/cafa4/all_models/M006 /data/rashika/CAFA4/winner_methods/mfo_all_type3\n",
      "cp /data/yisupeng/sharing/cafa4/all_models/M088 /data/rashika/CAFA4/winner_methods/mfo_all_type12\n",
      "cp /data/yisupeng/sharing/cafa4/all_models/M066 /data/rashika/CAFA4/winner_methods/mfo_all_type12\n",
      "cp /data/yisupeng/sharing/cafa4/all_models/M091 /data/rashika/CAFA4/winner_methods/mfo_all_type12\n",
      "cp /data/yisupeng/sharing/cafa4/all_models/M118 /data/rashika/CAFA4/winner_methods/mfo_all_type12\n",
      "cp /data/yisupeng/sharing/cafa4/all_models/M115 /data/rashika/CAFA4/winner_methods/mfo_all_type12\n",
      "cp /data/yisupeng/sharing/cafa4/all_models/M087 /data/rashika/CAFA4/winner_methods/mfo_all_type12\n",
      "cp /data/yisupeng/sharing/cafa4/all_models/M081 /data/rashika/CAFA4/winner_methods/mfo_all_type12\n",
      "cp /data/yisupeng/sharing/cafa4/all_models/naive /data/rashika/CAFA4/winner_methods/mfo_all_type12\n",
      "cp /data/yisupeng/sharing/cafa4/all_models/M005 /data/rashika/CAFA4/winner_methods/mfo_all_type12\n",
      "cp /data/yisupeng/sharing/cafa4/all_models/M045 /data/rashika/CAFA4/winner_methods/mfo_all_type12\n",
      "cp /data/yisupeng/sharing/cafa4/all_models/M032 /data/rashika/CAFA4/winner_methods/mfo_all_type12\n",
      "cp /data/yisupeng/sharing/cafa4/all_models/M071 /data/rashika/CAFA4/winner_methods/mfo_all_type12\n",
      "cp /data/yisupeng/sharing/cafa4/all_models/M003 /data/rashika/CAFA4/winner_methods/mfo_all_type12\n",
      "cp /data/yisupeng/sharing/cafa4/all_models/M119 /data/rashika/CAFA4/winner_methods/mfo_all_type12\n",
      "cp /data/yisupeng/sharing/cafa4/all_models/M016 /data/rashika/CAFA4/winner_methods/mfo_all_type12\n",
      "cp /data/yisupeng/sharing/cafa4/all_models/M110 /data/rashika/CAFA4/winner_methods/mfo_all_type12\n",
      "cp /data/yisupeng/sharing/cafa4/all_models/M068 /data/rashika/CAFA4/winner_methods/mfo_all_type12\n",
      "cp /data/yisupeng/sharing/cafa4/all_models/blast /data/rashika/CAFA4/winner_methods/mfo_all_type12\n",
      "cp /data/yisupeng/sharing/cafa4/all_models/M112 /data/rashika/CAFA4/winner_methods/mfo_all_type12\n",
      "cp /data/yisupeng/sharing/cafa4/all_models/M006 /data/rashika/CAFA4/winner_methods/mfo_all_type12\n",
      "cp /data/yisupeng/sharing/cafa4/all_models/M131 /data/rashika/CAFA4/winner_methods/mfo_all_type12\n"
     ]
    }
   ],
   "source": [
    "pred_dir = \"/data/yisupeng/sharing/cafa4/all_models/\"\n",
    "bs_dir = '/data/rashika/CAFA4/winner_methods/'\n",
    "for bm in Benchmarks:\n",
    "    bm_dir = bs_dir+bm\n",
    "    if not os.path.exists(bm_dir):\n",
    "        os.mkdir(bm_dir)\n",
    "    for method in top_by_bm[bm]:\n",
    "        cmd = \"cp \" + pred_dir + method + \" \" + bm_dir\n",
    "        print(cmd)\n",
    "        os.system(cmd)"
   ]
  },
  {
   "cell_type": "code",
   "execution_count": 235,
   "id": "c9fb2fe8",
   "metadata": {},
   "outputs": [],
   "source": [
    "def run_bootstrap(BM_GO_path, ont_file, pred_dir = '/data/rashika/CAFA4/winner_methods/', IA_file = '/data/rashika/CAFA4/eval/IA/IA.txt', result_path = '/data/rashika/CAFA4/eval_final/bootstrap', log_path = '/home/rashika/CAFA4/eval/log/', thresh_step = 0.001):\n",
    "    dir_list = os.listdir(BM_GO_path) # out_path is the path to the folder containing the target GO sets\n",
    "\n",
    "    if not os.path.exists(result_path):\n",
    "        os.mkdir(result_path)\n",
    "        \n",
    "    if not os.path.exists(log_path):\n",
    "        os.mkdir(log_path)\n",
    "        \n",
    "    for file in dir_list:\n",
    "\n",
    "        print(\"Evaluating: \" + file)\n",
    "        out_dir = result_path + file.split(\".\")[0] + '/'\n",
    "        pred_dir_bs = pred_dir + file.split(\".\")[0] + '/'\n",
    "        if not os.path.exists(out_dir):\n",
    "            os.mkdir(out_dir)\n",
    "        log_dir = log_path + file.split(\".\")[0] + '/'\n",
    "        if not os.path.exists(log_dir):\n",
    "            os.mkdir(log_dir)\n",
    "        log_file = log_dir + 'run_bs.log'\n",
    "        \n",
    "        # cafaeval go-basic.obo prediction_dir test_terms.tsv -ia IA.txt -prop fill -norm cafa -th_step 0.001 -max_terms 500\n",
    "        #cmd = 'cafaeval /data/yisupeng/sharing/cafa4/gene_ontology_edit.obo.2020-01-01 /data/yisupeng/sharing/cafa4/all_models/ ' + '/data/yisupeng/sharing/cafa4/t1_truth.csv' + ' -out_dir '+ out_dir + ' -prop max -th_step 0.01  -no_orphans -log_level info > '+ log_path + file.split(\".\")[0] + '.log'+ ' &'\n",
    "        #cmd = 'cafaeval '+ ont_file + pred_dir + BL_GO_path+file +' -out_dir '+ out_dir + ' -prop max -th_step 0.01  -no_orphans -log_level info > '+ log_path + file.split(\".\")[0] + '.log'+ ' &'\n",
    "        #With IA\n",
    "        cmd = \"python3 /home/rashika/CAFA4/CAFA-evaluator/src/cafaeval/__main__.py \"+ ont_file +\" \"+ pred_dir_bs + \" \" + BM_GO_path+file + \" -out_dir \" + out_dir + ' -ia ' + IA_file + \" -prop max -th_step \" + str(thresh_step) + \" -no_orphans > \"+ log_file+  \" &\"\n",
    "        #Without IA\n",
    "        #cmd = \"python3 /home/rashika/CAFA4/CAFA-evaluator/src/cafaeval/__main__.py \"+ ont_file +\" \"+ pred_dir + \" \" + BM_GO_path+file + \" -out_dir \" + out_dir + \" -prop max -th_step 0.01  -no_orphans \" + \" &\"\n",
    "        \n",
    "        \n",
    "        print(cmd)\n",
    "        #os.system(cmd)"
   ]
  },
  {
   "cell_type": "code",
   "execution_count": 185,
   "id": "a7dbfc9c",
   "metadata": {},
   "outputs": [
    {
     "name": "stdout",
     "output_type": "stream",
     "text": [
      "['bpo_all_type1.txt', 'cco_all_type1.txt', 'mfo_all_type1.txt', 'bpo_all_type2.txt', 'cco_all_type2.txt', 'mfo_all_type2.txt', 'bpo_all_type3.txt', 'cco_all_type3.txt', 'mfo_all_type3.txt', 'bpo_all_type12.txt', 'cco_all_type12.txt', 'mfo_all_type12.txt']\n",
      "/data/rashika/CAFA4/eval_final/bootstrap/\n",
      "Evaluating: bpo_all_type1.txt\n",
      "python3 /home/rashika/CAFA4/CAFA-evaluator/src/cafaeval/__main__.py /data/rashika/CAFA4/uniprot/go_2019_10_07/go-basic.obo /data/rashika/CAFA4/winner_models/ /data/rashika/CAFA4/eval_final/BM_GO/bpo_all_type1.txt -out_dir /data/rashika/CAFA4/eval_final/bootstrap/bpo_all_type1/ -ia /data/rashika/CAFA4/eval_final/IA.txt -prop max -th_step 0.001 -no_orphans -b 3 > /home/rashika/CAFA4/eval/log/bpo_all_type1/run.log &\n",
      "Evaluating: cco_all_type1.txt\n",
      "python3 /home/rashika/CAFA4/CAFA-evaluator/src/cafaeval/__main__.py /data/rashika/CAFA4/uniprot/go_2019_10_07/go-basic.obo /data/rashika/CAFA4/winner_models/ /data/rashika/CAFA4/eval_final/BM_GO/cco_all_type1.txt -out_dir /data/rashika/CAFA4/eval_final/bootstrap/cco_all_type1/ -ia /data/rashika/CAFA4/eval_final/IA.txt -prop max -th_step 0.001 -no_orphans -b 3 > /home/rashika/CAFA4/eval/log/cco_all_type1/run.log &\n",
      "Evaluating: mfo_all_type1.txt\n",
      "python3 /home/rashika/CAFA4/CAFA-evaluator/src/cafaeval/__main__.py /data/rashika/CAFA4/uniprot/go_2019_10_07/go-basic.obo /data/rashika/CAFA4/winner_models/ /data/rashika/CAFA4/eval_final/BM_GO/mfo_all_type1.txt -out_dir /data/rashika/CAFA4/eval_final/bootstrap/mfo_all_type1/ -ia /data/rashika/CAFA4/eval_final/IA.txt -prop max -th_step 0.001 -no_orphans -b 3 > /home/rashika/CAFA4/eval/log/mfo_all_type1/run.log &\n",
      "Evaluating: bpo_all_type2.txt\n",
      "python3 /home/rashika/CAFA4/CAFA-evaluator/src/cafaeval/__main__.py /data/rashika/CAFA4/uniprot/go_2019_10_07/go-basic.obo /data/rashika/CAFA4/winner_models/ /data/rashika/CAFA4/eval_final/BM_GO/bpo_all_type2.txt -out_dir /data/rashika/CAFA4/eval_final/bootstrap/bpo_all_type2/ -ia /data/rashika/CAFA4/eval_final/IA.txt -prop max -th_step 0.001 -no_orphans -b 3 > /home/rashika/CAFA4/eval/log/bpo_all_type2/run.log &\n",
      "Evaluating: cco_all_type2.txt\n",
      "python3 /home/rashika/CAFA4/CAFA-evaluator/src/cafaeval/__main__.py /data/rashika/CAFA4/uniprot/go_2019_10_07/go-basic.obo /data/rashika/CAFA4/winner_models/ /data/rashika/CAFA4/eval_final/BM_GO/cco_all_type2.txt -out_dir /data/rashika/CAFA4/eval_final/bootstrap/cco_all_type2/ -ia /data/rashika/CAFA4/eval_final/IA.txt -prop max -th_step 0.001 -no_orphans -b 3 > /home/rashika/CAFA4/eval/log/cco_all_type2/run.log &\n",
      "Evaluating: mfo_all_type2.txt\n",
      "python3 /home/rashika/CAFA4/CAFA-evaluator/src/cafaeval/__main__.py /data/rashika/CAFA4/uniprot/go_2019_10_07/go-basic.obo /data/rashika/CAFA4/winner_models/ /data/rashika/CAFA4/eval_final/BM_GO/mfo_all_type2.txt -out_dir /data/rashika/CAFA4/eval_final/bootstrap/mfo_all_type2/ -ia /data/rashika/CAFA4/eval_final/IA.txt -prop max -th_step 0.001 -no_orphans -b 3 > /home/rashika/CAFA4/eval/log/mfo_all_type2/run.log &\n",
      "Evaluating: bpo_all_type3.txt\n",
      "python3 /home/rashika/CAFA4/CAFA-evaluator/src/cafaeval/__main__.py /data/rashika/CAFA4/uniprot/go_2019_10_07/go-basic.obo /data/rashika/CAFA4/winner_models/ /data/rashika/CAFA4/eval_final/BM_GO/bpo_all_type3.txt -out_dir /data/rashika/CAFA4/eval_final/bootstrap/bpo_all_type3/ -ia /data/rashika/CAFA4/eval_final/IA.txt -prop max -th_step 0.001 -no_orphans -b 3 > /home/rashika/CAFA4/eval/log/bpo_all_type3/run.log &\n",
      "Evaluating: cco_all_type3.txt\n",
      "python3 /home/rashika/CAFA4/CAFA-evaluator/src/cafaeval/__main__.py /data/rashika/CAFA4/uniprot/go_2019_10_07/go-basic.obo /data/rashika/CAFA4/winner_models/ /data/rashika/CAFA4/eval_final/BM_GO/cco_all_type3.txt -out_dir /data/rashika/CAFA4/eval_final/bootstrap/cco_all_type3/ -ia /data/rashika/CAFA4/eval_final/IA.txt -prop max -th_step 0.001 -no_orphans -b 3 > /home/rashika/CAFA4/eval/log/cco_all_type3/run.log &\n",
      "Evaluating: mfo_all_type3.txt\n",
      "python3 /home/rashika/CAFA4/CAFA-evaluator/src/cafaeval/__main__.py /data/rashika/CAFA4/uniprot/go_2019_10_07/go-basic.obo /data/rashika/CAFA4/winner_models/ /data/rashika/CAFA4/eval_final/BM_GO/mfo_all_type3.txt -out_dir /data/rashika/CAFA4/eval_final/bootstrap/mfo_all_type3/ -ia /data/rashika/CAFA4/eval_final/IA.txt -prop max -th_step 0.001 -no_orphans -b 3 > /home/rashika/CAFA4/eval/log/mfo_all_type3/run.log &\n",
      "Evaluating: bpo_all_type12.txt\n",
      "python3 /home/rashika/CAFA4/CAFA-evaluator/src/cafaeval/__main__.py /data/rashika/CAFA4/uniprot/go_2019_10_07/go-basic.obo /data/rashika/CAFA4/winner_models/ /data/rashika/CAFA4/eval_final/BM_GO/bpo_all_type12.txt -out_dir /data/rashika/CAFA4/eval_final/bootstrap/bpo_all_type12/ -ia /data/rashika/CAFA4/eval_final/IA.txt -prop max -th_step 0.001 -no_orphans -b 3 > /home/rashika/CAFA4/eval/log/bpo_all_type12/run.log &\n",
      "Evaluating: cco_all_type12.txt\n",
      "python3 /home/rashika/CAFA4/CAFA-evaluator/src/cafaeval/__main__.py /data/rashika/CAFA4/uniprot/go_2019_10_07/go-basic.obo /data/rashika/CAFA4/winner_models/ /data/rashika/CAFA4/eval_final/BM_GO/cco_all_type12.txt -out_dir /data/rashika/CAFA4/eval_final/bootstrap/cco_all_type12/ -ia /data/rashika/CAFA4/eval_final/IA.txt -prop max -th_step 0.001 -no_orphans -b 3 > /home/rashika/CAFA4/eval/log/cco_all_type12/run.log &\n",
      "Evaluating: mfo_all_type12.txt\n",
      "python3 /home/rashika/CAFA4/CAFA-evaluator/src/cafaeval/__main__.py /data/rashika/CAFA4/uniprot/go_2019_10_07/go-basic.obo /data/rashika/CAFA4/winner_models/ /data/rashika/CAFA4/eval_final/BM_GO/mfo_all_type12.txt -out_dir /data/rashika/CAFA4/eval_final/bootstrap/mfo_all_type12/ -ia /data/rashika/CAFA4/eval_final/IA.txt -prop max -th_step 0.001 -no_orphans -b 3 > /home/rashika/CAFA4/eval/log/mfo_all_type12/run.log &\n"
     ]
    },
    {
     "name": "stderr",
     "output_type": "stream",
     "text": [
      "2024-06-27 23:12:47,024 [INFO ] Prediction: /data/rashika/CAFA4/winner_models/M038, evaluated\n",
      "2024-06-27 23:13:37,957 [INFO ] Prediction: /data/rashika/CAFA4/winner_models/M088, biological_process, proteins 1318, annotations 457626, replaced alt. ids 0\n"
     ]
    }
   ],
   "source": [
    "eval_path = '/data/rashika/CAFA4/eval_final/'\n",
    "BM_GO_path = eval_path + \"BM_GO/\"\n",
    "pred_dir = '/data/rashika/CAFA4/winner_models/'\n",
    "t_minus_ont_file =  \"/data/rashika/CAFA4/uniprot/go_2019_10_07/go-basic.obo\"\n",
    "IA_file =  eval_path + \"IA.txt\"\n",
    "bs_result_path = eval_path + 'bootstrap/'\n",
    "thresh_step = 0.001\n",
    "B = 3\n",
    "run_bootstrap(BM_GO_path, bs_dir, t_minus_ont_file, IA_file = IA_file, result_path = bs_result_path,  thresh_step = thresh_step, B = B)"
   ]
  },
  {
   "cell_type": "code",
   "execution_count": null,
   "id": "1772072f",
   "metadata": {},
   "outputs": [],
   "source": []
  }
 ],
 "metadata": {
  "kernelspec": {
   "display_name": "Python 3 (ipykernel)",
   "language": "python",
   "name": "python3"
  },
  "language_info": {
   "codemirror_mode": {
    "name": "ipython",
    "version": 3
   },
   "file_extension": ".py",
   "mimetype": "text/x-python",
   "name": "python",
   "nbconvert_exporter": "python",
   "pygments_lexer": "ipython3",
   "version": "3.10.9"
  }
 },
 "nbformat": 4,
 "nbformat_minor": 5
}
