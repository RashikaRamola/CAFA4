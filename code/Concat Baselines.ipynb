{
 "cells": [
  {
   "cell_type": "code",
   "execution_count": 3,
   "id": "9f0ea700",
   "metadata": {},
   "outputs": [],
   "source": [
    "import pandas as pd"
   ]
  },
  {
   "cell_type": "code",
   "execution_count": 7,
   "id": "1f0a585e",
   "metadata": {},
   "outputs": [],
   "source": [
    "BL_path = \"/data/common/CAFA4/processed_baselines/\""
   ]
  },
  {
   "cell_type": "code",
   "execution_count": null,
   "id": "4a53bf70",
   "metadata": {},
   "outputs": [],
   "source": [
    "BB_dfs = []\n",
    "BN_dfs = []\n",
    "for ont in ['bpo', 'cco', 'mfo']:\n",
    "    BB_file = BL_path + ont + '/' + 'BB4S'\n",
    "    BB_df = pd.read_csv(BB_file, sep = '\\t', header = None)\n",
    "    BB_dfs.append(BB_df)\n",
    "    \n",
    "    BN_file = BL_path + ont + '/' + 'BN4S'\n",
    "    BN_df = pd.read_csv(BN_file, sep = '\\t', header = None)\n",
    "    BN_dfs.append(BN_df)\n",
    "\n",
    "BB_DF = pd.concat(BB_dfs)\n",
    "BB_DF.to_csv(BL_path + 'blast', index=False, sep = \"\\t\", header = False)  \n",
    "BN_DF = pd.concat(BN_dfs)\n",
    "BN_DF.to_csv(BL_path + 'naive', index=False, sep = \"\\t\", header = False)  "
   ]
  },
  {
   "cell_type": "code",
   "execution_count": null,
   "id": "5caae793",
   "metadata": {},
   "outputs": [],
   "source": []
  }
 ],
 "metadata": {
  "kernelspec": {
   "display_name": "Python 3 (ipykernel)",
   "language": "python",
   "name": "python3"
  },
  "language_info": {
   "codemirror_mode": {
    "name": "ipython",
    "version": 3
   },
   "file_extension": ".py",
   "mimetype": "text/x-python",
   "name": "python",
   "nbconvert_exporter": "python",
   "pygments_lexer": "ipython3",
   "version": "3.10.9"
  }
 },
 "nbformat": 4,
 "nbformat_minor": 5
}
