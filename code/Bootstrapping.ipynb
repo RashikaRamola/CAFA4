{
 "cells": [
  {
   "cell_type": "code",
   "execution_count": 1,
   "id": "d63c0b4b",
   "metadata": {},
   "outputs": [],
   "source": [
    "# To be merged with the Pipeline"
   ]
  },
  {
   "cell_type": "code",
   "execution_count": 9,
   "id": "9f0c59d0",
   "metadata": {},
   "outputs": [],
   "source": [
    "import sys\n",
    "import os"
   ]
  },
  {
   "cell_type": "code",
   "execution_count": 12,
   "id": "ca9ef472",
   "metadata": {},
   "outputs": [],
   "source": [
    "#result_path = \"/data/rashika/CAFA4/eval/\" + \"eval_results/\"\n",
    "result_path = '/home/rashika/CAFA4/eval/eval_results'\n",
    "dir_list = os.listdir(result_path)"
   ]
  },
  {
   "cell_type": "code",
   "execution_count": 15,
   "id": "eb65e42f",
   "metadata": {},
   "outputs": [
    {
     "ename": "TypeError",
     "evalue": "can only concatenate list (not \"str\") to list",
     "output_type": "error",
     "traceback": [
      "\u001b[0;31m---------------------------------------------------------------------------\u001b[0m",
      "\u001b[0;31mTypeError\u001b[0m                                 Traceback (most recent call last)",
      "Cell \u001b[0;32mIn[15], line 2\u001b[0m\n\u001b[1;32m      1\u001b[0m \u001b[38;5;28;01mfor\u001b[39;00m folder \u001b[38;5;129;01min\u001b[39;00m dir_list:\n\u001b[0;32m----> 2\u001b[0m     results_files \u001b[38;5;241m=\u001b[39m os\u001b[38;5;241m.\u001b[39mlistdir(\u001b[43mdir_list\u001b[49m\u001b[38;5;241;43m+\u001b[39;49m\u001b[43mfolder\u001b[49m)\n\u001b[1;32m      3\u001b[0m     \u001b[38;5;28mprint\u001b[39m(results_files)\n",
      "\u001b[0;31mTypeError\u001b[0m: can only concatenate list (not \"str\") to list"
     ]
    }
   ],
   "source": [
    "for folder in dir_list:\n",
    "    results_files = os.listdir(dir_list+folder)\n",
    "    print(results_files)"
   ]
  },
  {
   "cell_type": "markdown",
   "id": "67b3346f",
   "metadata": {},
   "source": [
    "Algorithm\n",
    "\n",
    "1. For each of the 4 types X 3 aspects, pick the top 10 methods based on f_max\n",
    "2. For each of the top 10 methods, make B datasets with sampling by replacement\n",
    "3. Run cafa_evaluator on each of the B_i dataset\n",
    "4. Collect the f_max from each of the B_i methods to calculate the confidence interval"
   ]
  }
 ],
 "metadata": {
  "kernelspec": {
   "display_name": "Python 3 (ipykernel)",
   "language": "python",
   "name": "python3"
  },
  "language_info": {
   "codemirror_mode": {
    "name": "ipython",
    "version": 3
   },
   "file_extension": ".py",
   "mimetype": "text/x-python",
   "name": "python",
   "nbconvert_exporter": "python",
   "pygments_lexer": "ipython3",
   "version": "3.10.9"
  }
 },
 "nbformat": 4,
 "nbformat_minor": 5
}
