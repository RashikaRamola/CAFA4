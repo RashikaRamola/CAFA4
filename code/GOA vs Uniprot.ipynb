{
 "cells": [
  {
   "cell_type": "code",
   "execution_count": 7,
   "id": "f63ee62f",
   "metadata": {},
   "outputs": [],
   "source": [
    "from preprocess_gaf import *"
   ]
  },
  {
   "cell_type": "code",
   "execution_count": 8,
   "id": "b9d4a7cf",
   "metadata": {},
   "outputs": [],
   "source": [
    "Uniprot_2019_12_19 = '/data/rashika/CAFA4/uniprot/goa_2019-12-18/goa_uniprot_all.gaf.195.gz'\n",
    "GOA_2020_Jan_3 = '/data/rashika/CAFA4/uniprot/ggoa_2020_Jan_03/goa_uniprot_all.gaf.gz '"
   ]
  },
  {
   "cell_type": "code",
   "execution_count": null,
   "id": "9c537712",
   "metadata": {},
   "outputs": [
    {
     "name": "stdout",
     "output_type": "stream",
     "text": [
      "Indices of the extracted columns are :  [1, 3, 4, 6, 8]\n"
     ]
    }
   ],
   "source": [
    "Uniprot_ann = extract_annot(Uniprot_2019_12_19)"
   ]
  },
  {
   "cell_type": "code",
   "execution_count": null,
   "id": "ee0aa66a",
   "metadata": {},
   "outputs": [],
   "source": [
    "GOA_ann = extract_annot(GOA_2020_Jan_3)"
   ]
  },
  {
   "cell_type": "code",
   "execution_count": null,
   "id": "41ae6f6a",
   "metadata": {},
   "outputs": [],
   "source": []
  }
 ],
 "metadata": {
  "kernelspec": {
   "display_name": "Python 3 (ipykernel)",
   "language": "python",
   "name": "python3"
  },
  "language_info": {
   "codemirror_mode": {
    "name": "ipython",
    "version": 3
   },
   "file_extension": ".py",
   "mimetype": "text/x-python",
   "name": "python",
   "nbconvert_exporter": "python",
   "pygments_lexer": "ipython3",
   "version": "3.10.9"
  }
 },
 "nbformat": 4,
 "nbformat_minor": 5
}
