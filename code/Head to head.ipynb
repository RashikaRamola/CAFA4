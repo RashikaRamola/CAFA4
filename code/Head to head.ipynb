{
 "cells": [
  {
   "cell_type": "code",
   "execution_count": 1,
   "id": "7e702508",
   "metadata": {},
   "outputs": [],
   "source": [
    "import numpy as np\n",
    "import pandas as pd\n",
    "import gzip\n",
    "import csv\n",
    "import io\n",
    "import argparse\n",
    "\n",
    "import subprocess\n",
    "import multiprocessing\n",
    "import time\n",
    "\n",
    "import sys\n",
    "sys.path.append(\"/home/rashika/CAFA4/InformationAccretion/\")\n",
    "sys.path.append(\"/home/rashika/CAFA4/CAFA-evaluator/src/cafaeval/\")\n",
    "from parser import *\n",
    "from ia import *\n",
    "from make_benchmarks import *"
   ]
  },
  {
   "cell_type": "code",
   "execution_count": 15,
   "id": "b45f8d45",
   "metadata": {},
   "outputs": [],
   "source": [
    "cafa1_obo = '/data/rashika/CAFA4/head2head/CAFA1/go.obo'\n",
    "cafa1_ont = obo_parser(cafa1_obo)\n",
    "\n",
    "cafa2_obo = '/data/rashika/CAFA4/head2head/CAFA2/go.obo'\n",
    "cafa2_ont = obo_parser(cafa2_obo)\n",
    "\n",
    "cafa3_obo = '/data/rashika/CAFA4/head2head/CAFA3/go.obo'\n",
    "cafa3_ont = obo_parser(cafa3_obo)\n",
    "\n",
    "cafa4_obo = '/data/rashika/CAFA4/head2head/CAFA4/go-basic.obo'\n",
    "cafa4_ont = obo_parser(cafa4_obo)"
   ]
  },
  {
   "cell_type": "code",
   "execution_count": 21,
   "id": "7e0c1ac4",
   "metadata": {},
   "outputs": [
    {
     "ename": "AttributeError",
     "evalue": "'Graph' object has no attribute 'nodes'",
     "output_type": "error",
     "traceback": [
      "\u001b[0;31m---------------------------------------------------------------------------\u001b[0m",
      "\u001b[0;31mAttributeError\u001b[0m                            Traceback (most recent call last)",
      "Cell \u001b[0;32mIn[21], line 1\u001b[0m\n\u001b[0;32m----> 1\u001b[0m \u001b[43mcafa3_obo\u001b[49m\u001b[43m[\u001b[49m\u001b[38;5;124;43m'\u001b[39;49m\u001b[38;5;124;43mbiological_process\u001b[39;49m\u001b[38;5;124;43m'\u001b[39;49m\u001b[43m]\u001b[49m\u001b[38;5;241;43m.\u001b[39;49m\u001b[43mnodes\u001b[49m\n",
      "\u001b[0;31mAttributeError\u001b[0m: 'Graph' object has no attribute 'nodes'"
     ]
    }
   ],
   "source": [
    "for aspect in ['biological_process', 'molecular_function', 'cellular_component']:\n",
    "    for cafa_ont in "
   ]
  },
  {
   "cell_type": "code",
   "execution_count": 7,
   "id": "2dc8d6dc",
   "metadata": {},
   "outputs": [
    {
     "ename": "NameError",
     "evalue": "name 'ls' is not defined",
     "output_type": "error",
     "traceback": [
      "\u001b[0;31m---------------------------------------------------------------------------\u001b[0m",
      "\u001b[0;31mNameError\u001b[0m                                 Traceback (most recent call last)",
      "Cell \u001b[0;32mIn[7], line 1\u001b[0m\n\u001b[0;32m----> 1\u001b[0m \u001b[43mls\u001b[49m \u001b[38;5;241m/\u001b[39mdata\u001b[38;5;241m/\u001b[39mrashika\u001b[38;5;241m/\u001b[39mCAFA4\u001b[38;5;241m/\u001b[39mhead2head\u001b[38;5;241m/\u001b[39mCAFA1\n",
      "\u001b[0;31mNameError\u001b[0m: name 'ls' is not defined"
     ]
    }
   ],
   "source": [
    "ls /data/rashika/CAFA4/head2head/CAFA1\n",
    "#ls /data/rashika/CAFA4/head2head/CAFA2\n",
    "#ls /data/rashika/CAFA4/head2head/CAFA3\n",
    "#ls /data/rashika/CAFA4/head2head/CAFA4"
   ]
  },
  {
   "cell_type": "code",
   "execution_count": 13,
   "id": "33690457",
   "metadata": {},
   "outputs": [
    {
     "name": "stdout",
     "output_type": "stream",
     "text": [
      "go-basic.obo\r\n"
     ]
    }
   ],
   "source": [
    "ls /data/rashika/CAFA4/head2head/CAFA4/"
   ]
  },
  {
   "cell_type": "code",
   "execution_count": null,
   "id": "c395050d",
   "metadata": {},
   "outputs": [],
   "source": []
  }
 ],
 "metadata": {
  "kernelspec": {
   "display_name": "Python 3 (ipykernel)",
   "language": "python",
   "name": "python3"
  },
  "language_info": {
   "codemirror_mode": {
    "name": "ipython",
    "version": 3
   },
   "file_extension": ".py",
   "mimetype": "text/x-python",
   "name": "python",
   "nbconvert_exporter": "python",
   "pygments_lexer": "ipython3",
   "version": "3.10.9"
  }
 },
 "nbformat": 4,
 "nbformat_minor": 5
}
