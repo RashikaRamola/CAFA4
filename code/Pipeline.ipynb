{
 "cells": [
  {
   "cell_type": "code",
   "execution_count": 37,
   "id": "4a34777d",
   "metadata": {},
   "outputs": [],
   "source": [
    "import numpy as np\n",
    "import pandas as pd\n",
    "import gzip\n",
    "import csv\n",
    "import io\n",
    "import argparse\n",
    "\n",
    "import subprocess\n",
    "import multiprocessing\n",
    "import time\n",
    "\n",
    "import sys\n",
    "sys.path.append(\"/home/rashika/CAFA4/InformationAccretion/\")\n",
    "from ia import *\n",
    "from make_benchmarks import *"
   ]
  },
  {
   "cell_type": "code",
   "execution_count": 6,
   "id": "cc289316",
   "metadata": {},
   "outputs": [],
   "source": [
    "# Preprocess\n",
    "#preprocess_cmd = \"python3 run_preprocess_parallel.py\"\n",
    "#result = subprocess.run(preprocess_cmd, shell=True)"
   ]
  },
  {
   "cell_type": "code",
   "execution_count": 7,
   "id": "ff101f5b",
   "metadata": {},
   "outputs": [
    {
     "name": "stdout",
     "output_type": "stream",
     "text": [
      "Propagating Terms\n",
      "Counting Terms\n",
      "Computing Information Accretion\n",
      "0.0\n",
      "Saving to file /data/rashika/CAFA4/eval/IA/IA.txt\n"
     ]
    }
   ],
   "source": [
    "# To do:\n",
    "# Modify preprocess_cmd to take all the input/output/log paths as inputs\n",
    "# Incorporate in the code of main() block"
   ]
  },
  {
   "cell_type": "markdown",
   "id": "f1e696c0",
   "metadata": {},
   "source": [
    "# To do \n",
    "\n",
    "Do the system commands more elegantly, parallelise the evaluation, incorporate the bootstrapping"
   ]
  },
  {
   "cell_type": "code",
   "execution_count": 39,
   "id": "e2967d89",
   "metadata": {},
   "outputs": [],
   "source": [
    "\"\"\"\n",
    "    Read a the processed annotation file, map the primary ID to a mapping file, and keep the rows that can be mapped.\n",
    "\n",
    "    Parameters:\n",
    "    - processed_file_path: Path to the file containing processed GOA annotations\n",
    "    - mapping_file: Path to the mapping file \n",
    "    - out_path: Path to the output file.\n",
    "    \"\"\"\n",
    "def goa_to_CAFA4ID(processed_file_path, mapping_file, out_path):\n",
    "    ann = pd.read_csv(processed_file_path, sep = '\\t', header = 0)\n",
    "    mapping = pd.read_csv(mapping_file, sep = '\\t', header = 0)\n",
    "\n",
    "    # Inner join the processed annotations and the mapping based on DB Object ID\n",
    "    mapped =  pd.merge(ann, mapping, on='DB Object ID', how='inner')\n",
    "    \n",
    "    \n",
    "    # Keep the required columns\n",
    "    mapped = mapped[[\"CAFA4_ID\", \"GO ID\", \"Aspect\"]]\n",
    "    \n",
    "    # Write the mapped file to the out_path\n",
    "    mapped.to_csv(out_path, sep = \"\\t\", index=False, header=None)"
   ]
  },
  {
   "cell_type": "code",
   "execution_count": 40,
   "id": "0277175b",
   "metadata": {},
   "outputs": [],
   "source": [
    "def get_preprocess_cmd(gaf_path, out_path):\n",
    "    cmd = [\n",
    "    \"python3\",                 # Command to execute Python 3\n",
    "    \"preprocess_gaf.py\",       # Script to run\n",
    "    gaf_path,  # Path to input file\n",
    "    \"--highTP\",\n",
    "    \"--out_path\", out_path,        # Output path parameter\n",
    "    #\"--evidence_codes\", \"EXP\", \"IDA\",   # Evidence codes parameter\n",
    "    #\"--extract_col_list\", \"DB Object ID\", \"Qualifier\"  # Extract column list parameter\n",
    "]\n",
    "    return cmd\n",
    "\n",
    "def run_process(command, log_file):\n",
    "    with open(log_file, \"w\") as f:\n",
    "        print(command)\n",
    "        result = subprocess.run(\" \".join(command), shell=True, stdout=f, stderr=subprocess.STDOUT)\n",
    "\n",
    "\n",
    "if __name__ == \"__main__\":\n",
    "    # Define commands and log file names\n",
    "    work_dir = \"/data/rashika/CAFA4/\"\n",
    "    \n",
    "    #t0_gaf_file = work_dir + \"uniprot/raw_goa/sample_t0.gz\"\n",
    "    #t0_gaf_file = work_dir + \"uniprot/raw_goa/t0/goa_uniprot_all.gaf.195.gz\" # The latest Uniprot file before t1 ( 2019-12-17)\n",
    "    t0_gaf_file = work_dir + \"uniprot/goa_2020_Jan_03/goa_uniprot_all.gaf.gz\" # The latest GOA file before t0, 2019-12-17 reeleasee from UniProt, 2020_Jan_03 release from GOA \n",
    "    t0_processed = work_dir + \"extracted_goa/t0_preprocessed.csv\"\n",
    "    log_t0 =  work_dir + \"log/log_preprocess_t0.txt\"\n",
    "    \n",
    "    #t1_gaf_file = work_dir + \"uniprot/raw_goa/t1/goa_uniprot_all.gaf.gz\" # The file from UniProt (2024-02-09)\n",
    "    t1_gaf_file = work_dir + \"uniprot/goa_2024-04-24/filtered_goa_uniprot_all.gaf.gz\" # The latest GOA file before t1, 2024-04-16 release from UniProt, 2024-04-24 release from GOA\n",
    "    t1_processed = work_dir + \"extracted_goa/t1_preprocessed.csv\"\n",
    "    log_t1 = work_dir + \"log/log_preprocess_t1.txt\"\n",
    "    \n",
    "    \n",
    "    cmd_preprocess_t0 = get_preprocess_cmd(t0_gaf_file, t0_processed)\n",
    "    cmd_preprocess_t1 = get_preprocess_cmd(t1_gaf_file, t1_processed)\n",
    "    \n",
    "    # Create processes for each command\n",
    "    process1 = multiprocessing.Process(target=run_process, args=(cmd_preprocess_t0, log_t0))\n",
    "    process2 = multiprocessing.Process(target=run_process, args=(cmd_preprocess_t1, log_t1))\n",
    "    \n",
    "    # Start the processes\n",
    "    #process1.start()\n",
    "    #process2.start()\n",
    "\n",
    "    # Wait for both processes to finish\n",
    "    #process1.join()\n",
    "    #process2.join()\n",
    "\n",
    "    #print(\"Both processes have finished.\")\n",
    "    \n",
    "    # Map the IDs of the processed \n",
    "    \n",
    "    work_dir = \"/data/rashika/CAFA4/\"\n",
    "    mapping_file = \"/data/rashika/CAFA4/CAFA4-export/AC2CAFA4ID.map\"\n",
    "    t0_mapped_path = work_dir + \"mapped/t0.csv\"\n",
    "    t1_mapped_path = work_dir + \"/mapped/t1.csv\"\n",
    "    \n",
    "    # Map to CAFA4 IDs \n",
    "    #goa_to_CAFA4ID(t0_processed , mapping_file, t0_mapped_path)\n",
    "    #goa_to_CAFA4ID(t1_processed , mapping_file, t1_mapped_path)\n",
    "    \n",
    "    # Create the benchmarks\n",
    "    roots = {'BPO': 'GO:0008150', 'CCO': 'GO:0005575', 'MFO': 'GO:0003674'}\n",
    "\n",
    "    #eval_path = work_dir + \"eval/\"\n",
    "\n",
    "    t0_ont_file = '/data/rashika/CAFA4/uniprot/goa_2020_Jan_03/go-basic.obo' # data-version: releases/2020-01-01\n",
    "    t0_ont_graph = clean_ontology_edges(obonet.read_obo(t0_ont_file))     \n",
    "    \n",
    "    t1_ont_file = \"/data/rashika/CAFA4/uniprot/goa_2024-02-09/go-basic.obo\"\n",
    "    t1_ont_graph = clean_ontology_edges(obonet.read_obo(t1_ont_file)) # data-version: releases/2024-01-17\n",
    "\n",
    "    # Create BM lists\n",
    "    #BM_GO_path = eval_path + \"BM_GO/\"\n",
    "    \n",
    "    #  create_bm_lists(t0_mapped_path, t1_mapped_path, t0_ont_graph, t1_ont_graph, roots, BM_GO_path)\n",
    "\n",
    "\n",
    "    # Calculate IA\n",
    "    #IA_file =  work_dir + \"eval/IA/IA.txt\"\n",
    "    #print(IA_file)\n",
    "    #t0_common_path = '/data/rashika/CAFA4/common/t0.tsv'\n",
    "    #cmd = 'python3 /home/rashika/CAFA4/InformationAccretion/ia.py --annot ' + t0_common_path + ' --graph '+ t0_ont_file + ' --outfile ' + IA_file + ' --prop' \n",
    "    #os.system(cmd)\n",
    "    \n",
    "    #pred_dir = \"/data/yisupeng/sharing/cafa4/all_models/\"\n",
    "    \n",
    "    #result_path = \"/data/rashika/CAFA4/eval/\" + \"eval_results/\"\n",
    "    #run_eval(BM_GO_path, pred_dir, t0_ont_file, IA_file, result_path, log_path = '/home/rashika/CAFA4/eval/log/')\n",
    "    \n",
    "    \n",
    "\n",
    "\n"
   ]
  },
  {
   "cell_type": "markdown",
   "id": "ecf3edaa",
   "metadata": {},
   "source": [
    "Bootstrapping Development on sample\n"
   ]
  },
  {
   "cell_type": "code",
   "execution_count": 35,
   "id": "e3d76d5e",
   "metadata": {},
   "outputs": [
    {
     "name": "stdout",
     "output_type": "stream",
     "text": [
      "python3 /home/rashika/CAFA4/CAFA-evaluator/src/cafaeval/__main__.py /data/rashika/CAFA4/uniprot/goa_2020_Jan_03/go-basic.obo /home/rashika/CAFA4/one/ /data/rashika/CAFA4/eval/BM_GO/cco_all_type1.txt -out_dir /data/rashika/CAFA4/test_b -ia /data/rashika/CAFA4/eval/IA/IA.txt -prop max -th_step 0.01  -no_orphans -b 10 &\n"
     ]
    }
   ],
   "source": [
    "ont_file = '/data/rashika/CAFA4/uniprot/goa_2020_Jan_03/go-basic.obo' # data-version: releases/2020-01-01\n",
    "#pred_dir = '/data/rashika/CAFA4/pred_sample/' # 20 methods\n",
    "pred_dir ='/home/rashika/CAFA4/one/' # 1 method\n",
    "BM_GO_file = '/data/rashika/CAFA4/eval/BM_GO/cco_all_type1.txt'\n",
    "IA_file =  \"/data/rashika/CAFA4/eval/IA/IA.txt\"\n",
    "out_dir = \"/data/rashika/CAFA4/test_b\"\n",
    "\n",
    "\n",
    "cmd = \"python3 /home/rashika/CAFA4/CAFA-evaluator/src/cafaeval/__main__.py \"+ ont_file +\" \"+ pred_dir + \" \" + BM_GO_file + \" -out_dir \" + out_dir + ' -ia ' + IA_file + \" -prop max -th_step 0.01  -no_orphans -b 10\" + \" &\"\n",
    "print(cmd)\n",
    "#os.system(cmd)"
   ]
  },
  {
   "cell_type": "code",
   "execution_count": null,
   "id": "59cd0cc5",
   "metadata": {},
   "outputs": [],
   "source": [
    "/Users/rashi/Documents/Academics/Research/CAFA4_eval/Damiano_code/test_data/go-basic.obo /Users/rashi/Documents/Academics/Research/CAFA4_eval/Damiano_code/test_data/one/ /Users/rashi/Documents/Academics/Research/CAFA4_eval/Damiano_code/test_data/cco_all_type1.txt -out_dir /Users/rashi/Documents/Academics/Research/CAFA4_eval/Damiano_code/output -ia /Users/rashi/Documents/Academics/Research/CAFA4_eval/Damiano_code/test_data/IA.txt -prop max -th_step 0.01  -no_orphans -b 10 "
   ]
  },
  {
   "cell_type": "code",
   "execution_count": 13,
   "id": "99253401",
   "metadata": {},
   "outputs": [],
   "source": [
    "roots = {'BPO': 'GO:0008150', 'CCO': 'GO:0005575', 'MFO': 'GO:0003674'}\n",
    "\n",
    "work_dir = \"/data/rashika/CAFA4/\"\n",
    "t0_mapped_path = work_dir + \"mapped/t0.csv\"\n",
    "t1_mapped_path = work_dir + \"/mapped/t1.csv\"\n",
    "\n",
    "t0_ont_file = '/data/rashika/CAFA4/uniprot/goa_2020_Jan_03/go-basic.obo' # data-version: releases/2020-01-01\n",
    "t0_ont_graph = clean_ontology_edges(obonet.read_obo(t0_ont_file)) \n",
    "    \n",
    "t1_mapped_ann =  \"/data/rashika/CAFA4/mapped/t1_mapped.csv\"\n",
    "t1_ont_graph = clean_ontology_edges(obonet.read_obo( \"/data/rashika/CAFA4/uniprot/goa_2024-02-09/go-basic.obo\")) # data-version: releases/2024-01-17\n",
    "    \n",
    "#Prop t0 and t1 in their respective ontologies\n",
    "t0_prop = process_raw_annot(t0_mapped_path, t0_ont_graph, roots, remove_roots = False)\n",
    "t1_prop = process_raw_annot(t1_mapped_path, t1_ont_graph, roots, remove_roots = False)\n",
    "    \n",
    "# Keep common terms\n",
    "t0_common, t1_common =  keep_common_go_terms(t0_prop, t1_prop, t0_ont_graph, t1_ont_graph)\n",
    "t0_common.to_csv('/data/rashika/CAFA4/common/t0.tsv', sep = '\\t', header = False, index = False)\n",
    "t1_common.to_csv('/data/rashika/CAFA4/common/t1.tsv', sep = '\\t', header = False, index = False)"
   ]
  },
  {
   "cell_type": "code",
   "execution_count": 11,
   "id": "822a0b9d",
   "metadata": {},
   "outputs": [
    {
     "ename": "NameError",
     "evalue": "name 'create_plots' is not defined",
     "output_type": "error",
     "traceback": [
      "\u001b[0;31m---------------------------------------------------------------------------\u001b[0m",
      "\u001b[0;31mNameError\u001b[0m                                 Traceback (most recent call last)",
      "Cell \u001b[0;32mIn[11], line 13\u001b[0m\n\u001b[1;32m     11\u001b[0m metric, cols \u001b[38;5;241m=\u001b[39m (\u001b[38;5;124m'\u001b[39m\u001b[38;5;124mf_w\u001b[39m\u001b[38;5;124m'\u001b[39m, [\u001b[38;5;124m'\u001b[39m\u001b[38;5;124mrc_w\u001b[39m\u001b[38;5;124m'\u001b[39m, \u001b[38;5;124m'\u001b[39m\u001b[38;5;124mpr_w\u001b[39m\u001b[38;5;124m'\u001b[39m])\n\u001b[1;32m     12\u001b[0m \u001b[38;5;66;03m#create_plots(results_path, metric, cols,out_path='/home/rashika/CAFA4/eval/plots/', n_curves = None, names_file = None):\u001b[39;00m\n\u001b[0;32m---> 13\u001b[0m \u001b[43mcreate_plots\u001b[49m(data_path, metric, cols, out_path \u001b[38;5;241m=\u001b[39m plots_path_f_w, n_curves \u001b[38;5;241m=\u001b[39m \u001b[38;5;241m10\u001b[39m, names_file \u001b[38;5;241m=\u001b[39m register)\n\u001b[1;32m     15\u001b[0m metric, cols \u001b[38;5;241m=\u001b[39m (\u001b[38;5;124m'\u001b[39m\u001b[38;5;124mf\u001b[39m\u001b[38;5;124m'\u001b[39m, [\u001b[38;5;124m'\u001b[39m\u001b[38;5;124mrc\u001b[39m\u001b[38;5;124m'\u001b[39m, \u001b[38;5;124m'\u001b[39m\u001b[38;5;124mpr\u001b[39m\u001b[38;5;124m'\u001b[39m])\n\u001b[1;32m     16\u001b[0m create_plots(data_path, metric, cols, out_path \u001b[38;5;241m=\u001b[39m plots_path_f, n_curves \u001b[38;5;241m=\u001b[39m \u001b[38;5;241m10\u001b[39m, names_file \u001b[38;5;241m=\u001b[39m register)\n",
      "\u001b[0;31mNameError\u001b[0m: name 'create_plots' is not defined"
     ]
    }
   ],
   "source": [
    "# Obtain the plots\n",
    "# Results of 5 methods\n",
    "data_path = result_path\n",
    "plots_path = \"/data/rashika/CAFA4/eval/\" + \"plots/\"\n",
    "plots_path_f_w = plots_path+'f_w/'\n",
    "plots_path_f = plots_path+'f/'\n",
    "plots_path_f_micro_w = plots_path+'f_micro_w/'\n",
    "plots_path_s_w = plots_path+'s_w/'\n",
    "register = '/data/rashika/CAFA4/file_map.tsv'\n",
    "\n",
    "metric, cols = ('f_w', ['rc_w', 'pr_w'])\n",
    "#create_plots(results_path, metric, cols,out_path='/home/rashika/CAFA4/eval/plots/', n_curves = None, names_file = None):\n",
    "create_plots(data_path, metric, cols, out_path = plots_path_f_w, n_curves = 10, names_file = register)\n",
    "\n",
    "metric, cols = ('f', ['rc', 'pr'])\n",
    "create_plots(data_path, metric, cols, out_path = plots_path_f, n_curves = 10, names_file = register)\n",
    "\n",
    "metric, cols =  ('f_micro_w', ['rc_micro_w', 'pr_micro_w'])\n",
    "create_plots(data_path, metric, cols, out_path = plots_path_f_micro_w, n_curves = 10, names_file = register)\n",
    "\n",
    "metric, cols = ('s_w', ['ru_w', 'mi_w'])\n",
    "create_plots(data_path, metric, cols, out_path = plots_path_s_w, n_curves = 10, names_file = register)\n",
    "\n"
   ]
  },
  {
   "cell_type": "code",
   "execution_count": null,
   "id": "24c0bd61",
   "metadata": {},
   "outputs": [],
   "source": [
    "# Bootstrapping"
   ]
  },
  {
   "cell_type": "code",
   "execution_count": null,
   "id": "c94208e0",
   "metadata": {},
   "outputs": [],
   "source": [
    "roots = {'BPO': 'GO:0008150', 'CCO': 'GO:0005575', 'MFO': 'GO:0003674'}\n",
    "\n",
    "t0_ont_file = '/data/rashika/CAFA4/uniprot/goa_2020_Jan_03/go-basic.obo' # data-version: releases/2020-01-01\n",
    "t0_ont_graph = clean_ontology_edges(obonet.read_obo(t0_ont_file)) \n",
    "shawn_t0_mapped_ann = \"/data/rashika/CAFA4/CAFA4_gt/t0_mapped.csv\"\n",
    "\n",
    "t1_mapped_ann = \"/data/rashika/CAFA4/CAFA4_gt/t1_mapped.csv\"\n",
    "t1_ont_graph = clean_ontology_edges(obonet.read_obo( \"/data/rashika/CAFA4/uniprot/goa_2024-02-09/go-basic.obo\")) # data-version: releases/2024-01-17\n",
    "\n",
    "BM_path = \"/home/rashika/CAFA4/eval/benchmarks/\"\n",
    "BM_GO_path = \"/home/rashika/CAFA4/eval/benchmarks_GO/\"\n",
    "\n",
    "# Create BM lists\n",
    "#t1_eval = create_bm_lists(shawn_t0_mapped_ann, t1_mapped_ann, t0_ont_graph, t1_ont_graph, roots, BM_path)\n",
    "\n",
    "\n"
   ]
  },
  {
   "cell_type": "code",
   "execution_count": null,
   "id": "53d6428f",
   "metadata": {},
   "outputs": [],
   "source": [
    "import os"
   ]
  },
  {
   "cell_type": "code",
   "execution_count": null,
   "id": "b95a62b4",
   "metadata": {},
   "outputs": [],
   "source": [
    "def generate_image_code(directory):\n",
    "        image_code = ''\n",
    "        for root, dirs, files in os.walk(directory):\n",
    "            for sub_dir in dirs:\n",
    "                print(sub_dir)\n",
    "                print(directory +sub_dir)\n",
    "                for _, _, files_sub_dir in os.walk(directory +sub_dir):\n",
    "                    for file in files_sub_dir:\n",
    "                        print(str(file))\n",
    "                        if file.endswith(\".png\"):\n",
    "                            image_path = os.path.join(root, file)\n",
    "                            folder = os.path.basename(root)\n",
    "                            image_code += \"\\\\begin{subfigure}[b]{0.3\\\\textwidth}\\n\"\n",
    "                            image_code += \"\\\\centering\\n\"\n",
    "                            image_code += \"\\\\includegraphics[width=\\\\textwidth]{\" + image_path + \"}\\n\"\n",
    "                            image_code += \"\\\\caption{Figure in \\\\texttt{\" + folder + \"}}\\n\"\n",
    "                            image_code += \"\\\\label{fig:\" + folder + \":\" + file + \"}\\n\"\n",
    "                            image_code += \"\\\\end{subfigure}\\n\"\n",
    "            return image_code\n",
    "\n"
   ]
  },
  {
   "cell_type": "code",
   "execution_count": null,
   "id": "03901170",
   "metadata": {},
   "outputs": [],
   "source": [
    "# Call function to generate image code for current directory\n",
    "latex_image_code = generate_image_code('/home/rashika/CAFA4/eval/plots_ALL/f/')"
   ]
  },
  {
   "cell_type": "code",
   "execution_count": null,
   "id": "ed6b0966",
   "metadata": {},
   "outputs": [],
   "source": [
    "latex_image_code"
   ]
  },
  {
   "cell_type": "code",
   "execution_count": null,
   "id": "36eb7955",
   "metadata": {},
   "outputs": [],
   "source": []
  }
 ],
 "metadata": {
  "kernelspec": {
   "display_name": "Python 3 (ipykernel)",
   "language": "python",
   "name": "python3"
  },
  "language_info": {
   "codemirror_mode": {
    "name": "ipython",
    "version": 3
   },
   "file_extension": ".py",
   "mimetype": "text/x-python",
   "name": "python",
   "nbconvert_exporter": "python",
   "pygments_lexer": "ipython3",
   "version": "3.10.9"
  }
 },
 "nbformat": 4,
 "nbformat_minor": 5
}
